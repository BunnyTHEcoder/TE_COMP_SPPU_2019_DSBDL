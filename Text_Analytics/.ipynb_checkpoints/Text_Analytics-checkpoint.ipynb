{
 "cells": [
  {
   "cell_type": "code",
   "execution_count": 1,
   "id": "e4aadce8",
   "metadata": {},
   "outputs": [
    {
     "name": "stderr",
     "output_type": "stream",
     "text": [
      "[nltk_data] Downloading package omw-1.4 to\n",
      "[nltk_data]     C:\\Users\\user\\AppData\\Roaming\\nltk_data...\n",
      "[nltk_data]   Package omw-1.4 is already up-to-date!\n"
     ]
    }
   ],
   "source": [
    "import nltk\n",
    "nltk.download('omw-1.4')\n",
    "from nltk import word_tokenize\n",
    "text=\"We need to Tokenize this text and perform the given Activities\""
   ]
  },
  {
   "cell_type": "code",
   "execution_count": 2,
   "id": "69ed6cdb",
   "metadata": {},
   "outputs": [
    {
     "name": "stdout",
     "output_type": "stream",
     "text": [
      "we need to tokenize this text and perform the given activities\n"
     ]
    }
   ],
   "source": [
    "#lower case\n",
    "text=text.lower()\n",
    "print(text)"
   ]
  },
  {
   "cell_type": "code",
   "execution_count": 3,
   "id": "00451436",
   "metadata": {},
   "outputs": [
    {
     "name": "stdout",
     "output_type": "stream",
     "text": [
      "['we', 'need', 'to', 'tokenize', 'this', 'text', 'and', 'perform', 'the', 'given', 'activities']\n"
     ]
    }
   ],
   "source": [
    "#Tokenize\n",
    "print(nltk.word_tokenize(text))"
   ]
  },
  {
   "cell_type": "code",
   "execution_count": 4,
   "id": "4be302a4",
   "metadata": {},
   "outputs": [
    {
     "name": "stdout",
     "output_type": "stream",
     "text": [
      "need tokenize text perform given activities\n"
     ]
    }
   ],
   "source": [
    "#StopWords Removal\n",
    "\n",
    "from nltk.corpus import stopwords\n",
    "stop_word= set(stopwords.words('english'))\n",
    "words=word_tokenize(text)\n",
    "filtered_words=[word for word in words if word.lower() not in stop_word]\n",
    "       \n",
    "filtered_text=\" \".join(filtered_words)\n",
    "print(filtered_text)"
   ]
  },
  {
   "cell_type": "code",
   "execution_count": 5,
   "id": "709d1d3b",
   "metadata": {},
   "outputs": [
    {
     "name": "stdout",
     "output_type": "stream",
     "text": [
      "we need to tokenize this text and perform the given act\n"
     ]
    }
   ],
   "source": [
    "# Stemming\n",
    "from nltk.stem import PorterStemmer\n",
    "porter=PorterStemmer()\n",
    "print(porter.stem(text))"
   ]
  },
  {
   "cell_type": "code",
   "execution_count": 6,
   "id": "b3780327",
   "metadata": {},
   "outputs": [
    {
     "name": "stderr",
     "output_type": "stream",
     "text": [
      "[nltk_data] Downloading package wordnet to\n",
      "[nltk_data]     C:\\Users\\user\\AppData\\Roaming\\nltk_data...\n",
      "[nltk_data]   Package wordnet is already up-to-date!\n"
     ]
    },
    {
     "name": "stdout",
     "output_type": "stream",
     "text": [
      "need tokenize text perform given activities\n"
     ]
    }
   ],
   "source": [
    "#Lemmatizing\n",
    "import nltk\n",
    "nltk.download(\"wordnet\")\n",
    "from nltk.stem import WordNetLemmatizer\n",
    "lemmatizer=WordNetLemmatizer()\n",
    "\n",
    "text=nltk.word_tokenize(text)\n",
    "filtered_words=word_tokenize(filtered_text)\n",
    "lemmatized_words=[lemmatizer.lemmatize(word, pos='v') for word in filtered_words]\n",
    "filtered_text=\" \".join(filtered_words)\n",
    "print(filtered_text)"
   ]
  },
  {
   "cell_type": "code",
   "execution_count": 7,
   "id": "95f27ebe",
   "metadata": {},
   "outputs": [],
   "source": [
    "#tf/idf\n",
    "import re\n",
    "import string\n",
    "# assign documents\n",
    "d0 = 'This is document 1'\n",
    "d1 = 'Document 2'\n",
    "d2 = 'and Document 3'\n",
    "\n",
    "# merge documents into a single corpus\n",
    "string = [d0, d1, d2]\n",
    "# import required module\n",
    "from sklearn.feature_extraction.text import TfidfVectorizer\n",
    "\n",
    "\n"
   ]
  },
  {
   "cell_type": "code",
   "execution_count": 8,
   "id": "99a3ad2e",
   "metadata": {},
   "outputs": [],
   "source": [
    "# create object\n",
    "tfidf = TfidfVectorizer()\n",
    "\n",
    "# get tf-df values\n",
    "result = tfidf.fit_transform(string)\n"
   ]
  },
  {
   "cell_type": "code",
   "execution_count": 9,
   "id": "12589a98",
   "metadata": {},
   "outputs": [
    {
     "name": "stdout",
     "output_type": "stream",
     "text": [
      "\n",
      "Word indexes:\n",
      "{'this': 3, 'is': 2, 'document': 1, 'and': 0}\n",
      "\n",
      "tf-idf value:\n",
      "  (0, 1)\t0.3853716274664007\n",
      "  (0, 2)\t0.652490884512534\n",
      "  (0, 3)\t0.652490884512534\n",
      "  (1, 1)\t1.0\n",
      "  (2, 0)\t0.8610369959439764\n",
      "  (2, 1)\t0.5085423203783267\n",
      "\n",
      "tf-idf values in matrix form:\n",
      "[[0.         0.38537163 0.65249088 0.65249088]\n",
      " [0.         1.         0.         0.        ]\n",
      " [0.861037   0.50854232 0.         0.        ]]\n"
     ]
    }
   ],
   "source": [
    "# get indexing\n",
    "print('\\nWord indexes:')\n",
    "print(tfidf.vocabulary_)\n",
    "\n",
    "# display tf-idf values\n",
    "print('\\ntf-idf value:')\n",
    "print(result)\n",
    "\n",
    "# in matrix form\n",
    "print('\\ntf-idf values in matrix form:')\n",
    "print(result.toarray())\n"
   ]
  },
  {
   "cell_type": "code",
   "execution_count": null,
   "id": "1665a5b1",
   "metadata": {},
   "outputs": [],
   "source": []
  }
 ],
 "metadata": {
  "kernelspec": {
   "display_name": "Python 3 (ipykernel)",
   "language": "python",
   "name": "python3"
  },
  "language_info": {
   "codemirror_mode": {
    "name": "ipython",
    "version": 3
   },
   "file_extension": ".py",
   "mimetype": "text/x-python",
   "name": "python",
   "nbconvert_exporter": "python",
   "pygments_lexer": "ipython3",
   "version": "3.10.9"
  }
 },
 "nbformat": 4,
 "nbformat_minor": 5
}
